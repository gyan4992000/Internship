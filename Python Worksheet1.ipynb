{
 "cells": [
  {
   "cell_type": "markdown",
   "id": "6f2be231",
   "metadata": {},
   "source": [
    "# Q.11) Write a python program to find the factorial of a number."
   ]
  },
  {
   "cell_type": "code",
   "execution_count": 4,
   "id": "d233dece",
   "metadata": {},
   "outputs": [
    {
     "name": "stdout",
     "output_type": "stream",
     "text": [
      "Enter a number: 3\n",
      "Factorial =  6\n"
     ]
    }
   ],
   "source": [
    "num = int(input(\"Enter a number: \"))    \n",
    "fact = 1    \n",
    "if num < 0:\n",
    "    print(\" It’s a negative number for which factorial do not exist\")    \n",
    "elif num == 0:    \n",
    "    print(\"0! = 1\")    \n",
    "else:    \n",
    "    for i in range(1,num + 1):    \n",
    "        fact = fact*i\n",
    "    print(\"Factorial = \",fact)  \n"
   ]
  },
  {
   "cell_type": "markdown",
   "id": "632be54d",
   "metadata": {},
   "source": [
    "# Q.12) Write a python program to find whether a number is prime or composite."
   ]
  },
  {
   "cell_type": "code",
   "execution_count": 7,
   "id": "8771f8b7",
   "metadata": {},
   "outputs": [
    {
     "name": "stdout",
     "output_type": "stream",
     "text": [
      "Enter a number:3\n",
      "3 number is prime but not composite number\n"
     ]
    }
   ],
   "source": [
    "num= int(input(\"Enter a number:\"))\n",
    "if(num ==0 or num == 1):\n",
    "    printf(num,\"Number is neither prime nor composite\")\n",
    "elif num>1:\n",
    "    for i in range(2,num):\n",
    "        if(num%i == 0):\n",
    "            print(num,\"is not prime but composite number\")\n",
    "            break\n",
    "    else:\n",
    "        print(num,\"number is prime but not composite number\")\n",
    "else:\n",
    "    print(\"You entered a negative number \")\n"
   ]
  },
  {
   "cell_type": "markdown",
   "id": "8f9a5d34",
   "metadata": {},
   "source": [
    "# Q.13) Write a python program to check whether a given string is palindrome or not."
   ]
  },
  {
   "cell_type": "code",
   "execution_count": 16,
   "id": "9f3aca09",
   "metadata": {},
   "outputs": [
    {
     "name": "stdout",
     "output_type": "stream",
     "text": [
      "Please enter a string : aabbaa\n",
      "It's a palindrome\n"
     ]
    }
   ],
   "source": [
    "str1 = input(\"Please enter a string : \")\n",
    "num = 0\n",
    "\n",
    "leng = len(str1)\n",
    "for i in range(leng):\n",
    "    if(str1[i] != str1[leng - i - 1]):\n",
    "        num = 1\n",
    "        break\n",
    "if(num == 0):\n",
    "    print(\"It's a palindrome\")\n",
    "else:\n",
    "    print(\"It's not a palindrome\")\n"
   ]
  },
  {
   "cell_type": "markdown",
   "id": "5862baf9",
   "metadata": {},
   "source": [
    "# Q.14) Write a Python program to get the third side of right-angled triangle from two given sides."
   ]
  },
  {
   "cell_type": "code",
   "execution_count": 18,
   "id": "0a8110ad",
   "metadata": {},
   "outputs": [
    {
     "name": "stdout",
     "output_type": "stream",
     "text": [
      "Hypotenuse = 5.0\n",
      "Base = 4.0\n",
      "Perpendicular = 3.0\n",
      "Thank you!\n"
     ]
    }
   ],
   "source": [
    "def pythagoras_theorm(Base,perpendicular,hypotenuse):\n",
    "    if Base == str(\"x\"):\n",
    "        return (\"Perpendicular = \" + str(((hypotenuse**2) - (perpendicular**2))**0.5))\n",
    "    elif perpendicular == str(\"x\"):\n",
    "        return (\"Base = \" + str(((hypotenuse**2) - (Base**2))**0.5))\n",
    "    elif hypotenuse == str(\"x\"):\n",
    "        return (\"Hypotenuse = \" + str(((Base**2) + (perpendicular**2))**0.5))\n",
    "    else:\n",
    "        return \"Thank you!\"\n",
    "    \n",
    "print(pythagoras_theorm (3,4,'x'))\n",
    "print(pythagoras_theorm (3,'x',5))\n",
    "print(pythagoras_theorm ('x',4,5))\n",
    "print(pythagoras_theorm (3,4,5))\n"
   ]
  },
  {
   "cell_type": "markdown",
   "id": "5a1a9c40",
   "metadata": {},
   "source": [
    "# Q.15) Write a python program to print the frequency of each of the characters present in a given string."
   ]
  },
  {
   "cell_type": "code",
   "execution_count": 1,
   "id": "5878f35d",
   "metadata": {},
   "outputs": [
    {
     "name": "stdout",
     "output_type": "stream",
     "text": [
      "Enter the string: GyanPrakashTripathi\n",
      "{'G': 1, 'y': 1, 'a': 4, 'n': 1, 'P': 1, 'r': 2, 'k': 1, 's': 1, 'h': 2, 'T': 1, 'i': 2, 'p': 1, 't': 1}\n"
     ]
    }
   ],
   "source": [
    "str1 = input (\"Enter the string: \")\n",
    "d = dict()\n",
    "for c in str1:\n",
    "    if c in d:\n",
    "        d[c] = d[c] + 1\n",
    "    else:\n",
    "        d[c] = 1\n",
    "print(d)\n"
   ]
  },
  {
   "cell_type": "code",
   "execution_count": null,
   "id": "6d757eac",
   "metadata": {},
   "outputs": [],
   "source": []
  }
 ],
 "metadata": {
  "kernelspec": {
   "display_name": "Python 3 (ipykernel)",
   "language": "python",
   "name": "python3"
  },
  "language_info": {
   "codemirror_mode": {
    "name": "ipython",
    "version": 3
   },
   "file_extension": ".py",
   "mimetype": "text/x-python",
   "name": "python",
   "nbconvert_exporter": "python",
   "pygments_lexer": "ipython3",
   "version": "3.9.7"
  }
 },
 "nbformat": 4,
 "nbformat_minor": 5
}
